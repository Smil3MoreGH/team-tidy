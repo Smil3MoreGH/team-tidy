{
 "cells": [
  {
   "cell_type": "code",
   "execution_count": 38,
   "id": "751a3b7e",
   "metadata": {},
   "outputs": [
    {
     "data": {
      "text/plain": [
       "<Figure size 7200x4800 with 0 Axes>"
      ]
     },
     "metadata": {},
     "output_type": "display_data"
    }
   ],
   "source": [
    "#imports\n",
    "import pandas as pd\n",
    "import matplotlib.pyplot as plt\n",
    "plt.figure(dpi=1200)\n",
    "pd.set_option('display.float_format', lambda x: '%.2f' % x)"
   ]
  },
  {
   "cell_type": "code",
   "execution_count": 39,
   "id": "cc1f1536",
   "metadata": {},
   "outputs": [],
   "source": [
    "#import the dataset with pandas\n",
    "dataFrame = pd.read_excel('./salary/salary_data_states.xlsx')"
   ]
  },
  {
   "cell_type": "code",
   "execution_count": 40,
   "id": "351e9669",
   "metadata": {},
   "outputs": [],
   "source": [
    "# reduce variables to only those needed for analyzing\n",
    "salary = dataFrame.drop(columns=['CASE_NUMBER', 'CASE_STATUS', 'CASE_RECEIVED_DATE', 'DECISION_DATE', 'EMPLOYER_NAME', 'WORK_CITY', 'EDUCATION_LEVEL_REQUIRED', 'COLLEGE_MAJOR_REQUIRED', 'EXPERIENCE_REQUIRED_Y_N', 'EXPERIENCE_REQUIRED_NUM_MONTHS', 'COUNTRY_OF_CITIZENSHIP', 'PREVAILING_WAGE_SOC_CODE', 'PREVAILING_WAGE_SOC_TITLE', 'WORK_STATE_ABBREVIATION', 'WORK_POSTAL_CODE', 'FULL_TIME_POSITION_Y_N', 'PREVAILING_WAGE_PER_YEAR', 'order'])"
   ]
  },
  {
   "cell_type": "code",
   "execution_count": 41,
   "id": "aba3b6a7",
   "metadata": {},
   "outputs": [],
   "source": [
    "#clean the dataset, remove null\n",
    "salary['JOB_TITLE_SUBGROUP'] = salary['JOB_TITLE_SUBGROUP'].fillna(\"Nothing\")"
   ]
  },
  {
   "cell_type": "code",
   "execution_count": 42,
   "id": "115a332f",
   "metadata": {},
   "outputs": [
    {
     "data": {
      "text/plain": [
       "array(['software engineer', 'assistant professor', 'teacher',\n",
       "       'business analyst', 'management consultant', 'data analyst',\n",
       "       'attorney', 'data scientist'], dtype=object)"
      ]
     },
     "execution_count": 42,
     "metadata": {},
     "output_type": "execute_result"
    }
   ],
   "source": [
    "salary.JOB_TITLE_SUBGROUP.unique()"
   ]
  },
  {
   "cell_type": "code",
   "execution_count": 49,
   "id": "18e9b29d",
   "metadata": {},
   "outputs": [
    {
     "data": {
      "text/plain": [
       "JOB_TITLE_SUBGROUP     VISA_CLASS     \n",
       "assistant professor    E-3 Australian     90666.94\n",
       "                       H-1B               94921.47\n",
       "                       H-1B1 Chile        59000.00\n",
       "                       H-1B1 Singapore    67851.00\n",
       "                       greencard          94554.93\n",
       "attorney               E-3 Australian    215847.98\n",
       "                       H-1B              141605.86\n",
       "                       H-1B1 Chile       160000.00\n",
       "                       H-1B1 Singapore   161166.67\n",
       "                       greencard         134532.58\n",
       "business analyst       E-3 Australian     85418.91\n",
       "                       H-1B               70575.64\n",
       "                       H-1B1 Chile        77976.50\n",
       "                       H-1B1 Singapore    76663.79\n",
       "                       greencard          91398.67\n",
       "data analyst           E-3 Australian     85171.32\n",
       "                       H-1B               69249.05\n",
       "                       H-1B1 Singapore    76351.09\n",
       "                       greencard          90197.10\n",
       "data scientist         E-3 Australian    116022.13\n",
       "                       H-1B              107538.85\n",
       "                       H-1B1 Chile        90000.00\n",
       "                       H-1B1 Singapore   150000.24\n",
       "                       greencard         116507.76\n",
       "management consultant  E-3 Australian    134796.24\n",
       "                       H-1B              107910.91\n",
       "                       H-1B1 Chile        91979.68\n",
       "                       H-1B1 Singapore    84445.00\n",
       "                       greencard         100351.81\n",
       "software engineer      E-3 Australian    112843.67\n",
       "                       H-1B               91271.97\n",
       "                       H-1B1 Chile       106814.96\n",
       "                       H-1B1 Singapore   100942.41\n",
       "                       greencard         104445.18\n",
       "teacher                E-3 Australian     52886.68\n",
       "                       H-1B               45978.79\n",
       "                       H-1B1 Chile        34718.40\n",
       "                       H-1B1 Singapore    44334.26\n",
       "                       greencard          46481.62\n",
       "Name: PAID_WAGE_PER_YEAR, dtype: float64"
      ]
     },
     "execution_count": 49,
     "metadata": {},
     "output_type": "execute_result"
    }
   ],
   "source": [
    "# Compare H1-B1 vs Greencard salaries for each JOB_TITLE_SUBGROUP\n",
    "# Group by JOB_TITLE_SUBGROUP and get column data for PAID_WAGE_PER_YEAR\n",
    "#   seperated by VISA_CLASS\n",
    "\n",
    "salary.groupby(['JOB_TITLE_SUBGROUP', 'VISA_CLASS'])['PAID_WAGE_PER_YEAR'].mean()"
   ]
  }
 ],
 "metadata": {
  "kernelspec": {
   "display_name": "Python 3 (ipykernel)",
   "language": "python",
   "name": "python3"
  },
  "language_info": {
   "codemirror_mode": {
    "name": "ipython",
    "version": 3
   },
   "file_extension": ".py",
   "mimetype": "text/x-python",
   "name": "python",
   "nbconvert_exporter": "python",
   "pygments_lexer": "ipython3",
   "version": "3.9.12"
  }
 },
 "nbformat": 4,
 "nbformat_minor": 5
}
